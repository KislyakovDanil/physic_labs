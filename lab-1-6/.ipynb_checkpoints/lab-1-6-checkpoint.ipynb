{
 "cells": [
  {
   "cell_type": "markdown",
   "metadata": {},
   "source": [
    "# Работа 1.6. Измерение модуля Юнга методом акустического резонанса"
   ]
  },
  {
   "cell_type": "markdown",
   "metadata": {},
   "source": [
    "**Цель работы**: исследование явления акустического резонанса. Измерение скорости\n",
    "распространения продольных колебаний в тонких стрежнях. Измерение модуля\n",
    "Юнга различных материалов.\n",
    "\n",
    "**В работе используются**: генератор звуковых частот, частотомер, осциллограф,\n",
    "электромагнитные излучатель и приемник колебаний, набор стержней из различных материалов (стали, дюраля, меди)"
   ]
  },
  {
   "cell_type": "code",
   "execution_count": 1,
   "metadata": {
    "collapsed": true
   },
   "outputs": [],
   "source": [
    "import numpy as np\n",
    "import pandas as pd\n",
    "import matplotlib.pyplot as plt\n",
    "%matplotlib inline"
   ]
  },
  {
   "cell_type": "markdown",
   "metadata": {},
   "source": [
    "**Теоретические формулы**\n",
    "$$c_{ст} = \\frac{2Lf_n}{n}$$\n",
    "$$E = \\rho c_{ст}$$\n",
    "\n",
    "Здесь $c_{ст}$ - скорость распространения бегущих волн, $L$ - длина стержня, $f_n$ - частота $n$-го резонанса, $\\rho$ - плотность стержня, $E$ - модуль Юнга."
   ]
  },
  {
   "cell_type": "markdown",
   "metadata": {},
   "source": [
    "**Построение графика**"
   ]
  },
  {
   "cell_type": "code",
   "execution_count": 2,
   "metadata": {},
   "outputs": [
    {
     "data": {
      "text/html": [
       "<div>\n",
       "<table border=\"1\" class=\"dataframe\">\n",
       "  <thead>\n",
       "    <tr style=\"text-align: right;\">\n",
       "      <th></th>\n",
       "      <th>Материал</th>\n",
       "      <th>n</th>\n",
       "      <th>fₙ, Гц</th>\n",
       "      <th>L, м</th>\n",
       "      <th>с, м/с</th>\n",
       "      <th>ρ, кг/м³</th>\n",
       "      <th>E, 10¹¹ Н/м²</th>\n",
       "    </tr>\n",
       "  </thead>\n",
       "  <tbody>\n",
       "    <tr>\n",
       "      <th>0</th>\n",
       "      <td>Медь</td>\n",
       "      <td>1</td>\n",
       "      <td>3221</td>\n",
       "      <td>0.6</td>\n",
       "      <td>3865.2</td>\n",
       "      <td>8900</td>\n",
       "      <td>1.330</td>\n",
       "    </tr>\n",
       "    <tr>\n",
       "      <th>1</th>\n",
       "      <td>Медь</td>\n",
       "      <td>3</td>\n",
       "      <td>9655</td>\n",
       "      <td>0.6</td>\n",
       "      <td>3862.0</td>\n",
       "      <td>8900</td>\n",
       "      <td>1.327</td>\n",
       "    </tr>\n",
       "    <tr>\n",
       "      <th>2</th>\n",
       "      <td>Сталь</td>\n",
       "      <td>1</td>\n",
       "      <td>4132</td>\n",
       "      <td>0.6</td>\n",
       "      <td>4958.4</td>\n",
       "      <td>7800</td>\n",
       "      <td>1.918</td>\n",
       "    </tr>\n",
       "    <tr>\n",
       "      <th>3</th>\n",
       "      <td>Сталь</td>\n",
       "      <td>3</td>\n",
       "      <td>12383</td>\n",
       "      <td>0.6</td>\n",
       "      <td>4953.2</td>\n",
       "      <td>7800</td>\n",
       "      <td>1.914</td>\n",
       "    </tr>\n",
       "    <tr>\n",
       "      <th>4</th>\n",
       "      <td>Дюраль</td>\n",
       "      <td>1</td>\n",
       "      <td>4245</td>\n",
       "      <td>0.6</td>\n",
       "      <td>5094.0</td>\n",
       "      <td>2700</td>\n",
       "      <td>0.701</td>\n",
       "    </tr>\n",
       "    <tr>\n",
       "      <th>5</th>\n",
       "      <td>Дюраль</td>\n",
       "      <td>3</td>\n",
       "      <td>12709</td>\n",
       "      <td>0.6</td>\n",
       "      <td>5083.6</td>\n",
       "      <td>2700</td>\n",
       "      <td>0.698</td>\n",
       "    </tr>\n",
       "  </tbody>\n",
       "</table>\n",
       "</div>"
      ],
      "text/plain": [
       "  Материал  n  fₙ, Гц  L, м  с, м/с  ρ, кг/м³  E, 10¹¹ Н/м²\n",
       "0     Медь  1    3221   0.6  3865.2      8900         1.330\n",
       "1     Медь  3    9655   0.6  3862.0      8900         1.327\n",
       "2    Сталь  1    4132   0.6  4958.4      7800         1.918\n",
       "3    Сталь  3   12383   0.6  4953.2      7800         1.914\n",
       "4   Дюраль  1    4245   0.6  5094.0      2700         0.701\n",
       "5   Дюраль  3   12709   0.6  5083.6      2700         0.698"
      ]
     },
     "execution_count": 2,
     "metadata": {},
     "output_type": "execute_result"
    }
   ],
   "source": [
    "data = pd.read_excel('lab-1-6.xlsx', 'table-1')\n",
    "data.head(len(data))"
   ]
  },
  {
   "cell_type": "code",
   "execution_count": 3,
   "metadata": {},
   "outputs": [
    {
     "data": {
      "text/html": [
       "<div>\n",
       "<table border=\"1\" class=\"dataframe\">\n",
       "  <thead>\n",
       "    <tr style=\"text-align: right;\">\n",
       "      <th></th>\n",
       "      <th>Материал</th>\n",
       "      <th>n</th>\n",
       "      <th>Δfₙ, Гц</th>\n",
       "      <th>ΔL, м</th>\n",
       "      <th>Δс, м/с</th>\n",
       "      <th>Δρ, кг/м³</th>\n",
       "      <th>ΔE, 10¹¹ Н/м²</th>\n",
       "    </tr>\n",
       "  </thead>\n",
       "  <tbody>\n",
       "    <tr>\n",
       "      <th>0</th>\n",
       "      <td>Медь</td>\n",
       "      <td>1</td>\n",
       "      <td>5</td>\n",
       "      <td>0.0005</td>\n",
       "      <td>9.221000</td>\n",
       "      <td>5</td>\n",
       "      <td>0.003920</td>\n",
       "    </tr>\n",
       "    <tr>\n",
       "      <th>1</th>\n",
       "      <td>Медь</td>\n",
       "      <td>3</td>\n",
       "      <td>5</td>\n",
       "      <td>0.0005</td>\n",
       "      <td>5.218333</td>\n",
       "      <td>5</td>\n",
       "      <td>0.002539</td>\n",
       "    </tr>\n",
       "    <tr>\n",
       "      <th>2</th>\n",
       "      <td>Сталь</td>\n",
       "      <td>1</td>\n",
       "      <td>5</td>\n",
       "      <td>0.0005</td>\n",
       "      <td>10.132000</td>\n",
       "      <td>5</td>\n",
       "      <td>0.005149</td>\n",
       "    </tr>\n",
       "    <tr>\n",
       "      <th>3</th>\n",
       "      <td>Сталь</td>\n",
       "      <td>3</td>\n",
       "      <td>5</td>\n",
       "      <td>0.0005</td>\n",
       "      <td>6.127667</td>\n",
       "      <td>5</td>\n",
       "      <td>0.003595</td>\n",
       "    </tr>\n",
       "    <tr>\n",
       "      <th>4</th>\n",
       "      <td>Дюраль</td>\n",
       "      <td>1</td>\n",
       "      <td>5</td>\n",
       "      <td>0.0005</td>\n",
       "      <td>10.245000</td>\n",
       "      <td>5</td>\n",
       "      <td>0.002708</td>\n",
       "    </tr>\n",
       "    <tr>\n",
       "      <th>5</th>\n",
       "      <td>Дюраль</td>\n",
       "      <td>3</td>\n",
       "      <td>10</td>\n",
       "      <td>0.0005</td>\n",
       "      <td>8.236333</td>\n",
       "      <td>5</td>\n",
       "      <td>0.002423</td>\n",
       "    </tr>\n",
       "  </tbody>\n",
       "</table>\n",
       "</div>"
      ],
      "text/plain": [
       "  Материал  n  Δfₙ, Гц   ΔL, м    Δс, м/с  Δρ, кг/м³  ΔE, 10¹¹ Н/м²\n",
       "0     Медь  1        5  0.0005   9.221000          5       0.003920\n",
       "1     Медь  3        5  0.0005   5.218333          5       0.002539\n",
       "2    Сталь  1        5  0.0005  10.132000          5       0.005149\n",
       "3    Сталь  3        5  0.0005   6.127667          5       0.003595\n",
       "4   Дюраль  1        5  0.0005  10.245000          5       0.002708\n",
       "5   Дюраль  3       10  0.0005   8.236333          5       0.002423"
      ]
     },
     "execution_count": 3,
     "metadata": {},
     "output_type": "execute_result"
    }
   ],
   "source": [
    "pogr = pd.read_excel('lab-1-6.xlsx', 'table-2')\n",
    "pogr.head(len(pogr))"
   ]
  },
  {
   "cell_type": "code",
   "execution_count": 4,
   "metadata": {},
   "outputs": [],
   "source": [
    "y = data.values[:, 2]"
   ]
  },
  {
   "cell_type": "code",
   "execution_count": 5,
   "metadata": {
    "collapsed": true
   },
   "outputs": [],
   "source": [
    "dy = pogr.values[:, 2]"
   ]
  },
  {
   "cell_type": "code",
   "execution_count": 6,
   "metadata": {},
   "outputs": [],
   "source": [
    "k1, b1 = np.polyfit([1, 3], y[:2], deg=1)\n",
    "k2, b2 = np.polyfit([1, 3], y[2:4], deg=1)\n",
    "k3, b3 = np.polyfit([1, 3], y[4:], deg=1)"
   ]
  },
  {
   "cell_type": "code",
   "execution_count": 7,
   "metadata": {
    "collapsed": true
   },
   "outputs": [],
   "source": [
    "grid = np.linspace(0.0, 3.0, 300)"
   ]
  },
  {
   "cell_type": "code",
   "execution_count": 8,
   "metadata": {},
   "outputs": [
    {
     "data": {
      "image/png": "[encoded data removed]",
      "text/plain": [
       "<matplotlib.figure.Figure at 0x274b6b479b0>"
      ]
     },
     "metadata": {},
     "output_type": "display_data"
    }
   ],
   "source": [
    "plt.figure(figsize=(12, 8))\n",
    "plt.grid(linestyle='--')\n",
    "\n",
    "plt.title('Зависимость $f_n$ от $n$', fontweight='bold', fontsize=20)\n",
    "plt.xlabel('$n$', fontsize=16)\n",
    "plt.ylabel('$f_n$, Гц', fontsize=16)\n",
    "\n",
    "plt.plot(grid, k1 * grid + b1, label='Медь')\n",
    "plt.plot(grid, k2 * grid + b2, label='Сталь')\n",
    "plt.plot(grid, k3 * grid + b3, label='Дюраль')\n",
    "plt.errorbar([1, 3, 1, 3, 1, 3], y, yerr=dy, fmt='o')\n",
    "\n",
    "plt.legend(fontsize=16)\n",
    "\n",
    "plt.show()"
   ]
  },
  {
   "cell_type": "markdown",
   "metadata": {},
   "source": [
    "**Вычисление добротности**"
   ]
  },
  {
   "cell_type": "markdown",
   "metadata": {},
   "source": [
    "Для дюрали мы получили $\\Delta\\omega = 4275 - 4245 = 30$ кГц, тогда добротность равна\n",
    "$$Q = \\frac{f_1}{\\Delta\\omega} = 142.$$ "
   ]
  }
 ],
 "metadata": {
  "kernelspec": {
   "display_name": "Python 3",
   "language": "python",
   "name": "python3"
  },
  "language_info": {
   "codemirror_mode": {
    "name": "ipython",
    "version": 3
   },
   "file_extension": ".py",
   "mimetype": "text/x-python",
   "name": "python",
   "nbconvert_exporter": "python",
   "pygments_lexer": "ipython3",
   "version": "3.8.3"
  }
 },
 "nbformat": 4,
 "nbformat_minor": 2
}
