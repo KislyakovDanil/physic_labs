{
 "cells": [
  {
   "cell_type": "markdown",
   "metadata": {},
   "source": [
    "# Работа 1.2. Определение моментов инерции твёрдыхтел с помощью трифилярного подвеса\n",
    "\n",
    "**Цель работы**: измерение момента инерции ряда тел и сравнение результатов с расчётами по теоретическим формулам; проверка аддитивности моментов инерции и справедливости формулы Гюйгенса-Штейнера.\n",
    "\n",
    "**В работе используются**: трифилярный подвес, секундомер, счётчик числа колебаний, набор тел, момент инерции которых надлежит\n",
    "измерить (диск, стержень, полый цилиндр и другие)."
   ]
  },
  {
   "cell_type": "code",
   "execution_count": 1,
   "metadata": {},
   "outputs": [],
   "source": [
    "import numpy as np\n",
    "import pandas as pd\n",
    "import matplotlib.pyplot as plt\n",
    "%matplotlib inline"
   ]
  },
  {
   "cell_type": "code",
   "execution_count": 2,
   "metadata": {},
   "outputs": [
    {
     "data": {
      "text/html": [
       "<div>\n",
       "<style scoped>\n",
       "    .dataframe tbody tr th:only-of-type {\n",
       "        vertical-align: middle;\n",
       "    }\n",
       "\n",
       "    .dataframe tbody tr th {\n",
       "        vertical-align: top;\n",
       "    }\n",
       "\n",
       "    .dataframe thead th {\n",
       "        text-align: right;\n",
       "    }\n",
       "</style>\n",
       "<table border=\"1\" class=\"dataframe\">\n",
       "  <thead>\n",
       "    <tr style=\"text-align: right;\">\n",
       "      <th></th>\n",
       "      <th>Обозн.</th>\n",
       "      <th>Велич.</th>\n",
       "      <th>Погр.</th>\n",
       "      <th>Ед. изм.</th>\n",
       "      <th>Описание</th>\n",
       "    </tr>\n",
       "  </thead>\n",
       "  <tbody>\n",
       "    <tr>\n",
       "      <th>0</th>\n",
       "      <td>R</td>\n",
       "      <td>0.1154</td>\n",
       "      <td>0.0005</td>\n",
       "      <td>м</td>\n",
       "      <td>радиус платформы до нити</td>\n",
       "    </tr>\n",
       "    <tr>\n",
       "      <th>1</th>\n",
       "      <td>r</td>\n",
       "      <td>0.0305</td>\n",
       "      <td>0.0003</td>\n",
       "      <td>м</td>\n",
       "      <td>радиус верхней платформы</td>\n",
       "    </tr>\n",
       "    <tr>\n",
       "      <th>2</th>\n",
       "      <td>m</td>\n",
       "      <td>0.9935</td>\n",
       "      <td>0.0003</td>\n",
       "      <td>кг</td>\n",
       "      <td>масса платформы</td>\n",
       "    </tr>\n",
       "    <tr>\n",
       "      <th>3</th>\n",
       "      <td>h</td>\n",
       "      <td>0.0300</td>\n",
       "      <td>0.0005</td>\n",
       "      <td>м</td>\n",
       "      <td>высота цилиндра</td>\n",
       "    </tr>\n",
       "    <tr>\n",
       "      <th>4</th>\n",
       "      <td>d</td>\n",
       "      <td>0.0870</td>\n",
       "      <td>0.0005</td>\n",
       "      <td>м</td>\n",
       "      <td>диаметр цилиндра</td>\n",
       "    </tr>\n",
       "    <tr>\n",
       "      <th>5</th>\n",
       "      <td>w</td>\n",
       "      <td>0.0260</td>\n",
       "      <td>0.0005</td>\n",
       "      <td>м</td>\n",
       "      <td>ширина бруска</td>\n",
       "    </tr>\n",
       "    <tr>\n",
       "      <th>6</th>\n",
       "      <td>l</td>\n",
       "      <td>0.2090</td>\n",
       "      <td>0.0005</td>\n",
       "      <td>м</td>\n",
       "      <td>длина бруска</td>\n",
       "    </tr>\n",
       "    <tr>\n",
       "      <th>7</th>\n",
       "      <td>m₁</td>\n",
       "      <td>0.7640</td>\n",
       "      <td>0.0000</td>\n",
       "      <td>кг</td>\n",
       "      <td>масса половины цилиндра</td>\n",
       "    </tr>\n",
       "    <tr>\n",
       "      <th>8</th>\n",
       "      <td>m₂</td>\n",
       "      <td>0.7640</td>\n",
       "      <td>0.0000</td>\n",
       "      <td>кг</td>\n",
       "      <td>масса второй половины цилиндра</td>\n",
       "    </tr>\n",
       "    <tr>\n",
       "      <th>9</th>\n",
       "      <td>m₃</td>\n",
       "      <td>1.1751</td>\n",
       "      <td>0.0000</td>\n",
       "      <td>кг</td>\n",
       "      <td>масса бруска</td>\n",
       "    </tr>\n",
       "    <tr>\n",
       "      <th>10</th>\n",
       "      <td>z₀</td>\n",
       "      <td>2.1700</td>\n",
       "      <td>0.0100</td>\n",
       "      <td>м</td>\n",
       "      <td>высота до платформы</td>\n",
       "    </tr>\n",
       "  </tbody>\n",
       "</table>\n",
       "</div>"
      ],
      "text/plain": [
       "   Обозн.  Велич.   Погр. Ед. изм.                        Описание\n",
       "0       R  0.1154  0.0005        м        радиус платформы до нити\n",
       "1       r  0.0305  0.0003        м        радиус верхней платформы\n",
       "2       m  0.9935  0.0003       кг                 масса платформы\n",
       "3       h  0.0300  0.0005        м                 высота цилиндра\n",
       "4       d  0.0870  0.0005        м                диаметр цилиндра\n",
       "5       w  0.0260  0.0005        м                   ширина бруска\n",
       "6       l  0.2090  0.0005        м                    длина бруска\n",
       "7      m₁  0.7640  0.0000       кг         масса половины цилиндра\n",
       "8      m₂  0.7640  0.0000       кг  масса второй половины цилиндра\n",
       "9      m₃  1.1751  0.0000       кг                    масса бруска\n",
       "10     z₀  2.1700  0.0100        м             высота до платформы"
      ]
     },
     "execution_count": 2,
     "metadata": {},
     "output_type": "execute_result"
    }
   ],
   "source": [
    "table_1 = pd.read_excel('lab-1-2.xlsx', 'table-1')\n",
    "table_1.head(len(table_1))"
   ]
  },
  {
   "cell_type": "code",
   "execution_count": 3,
   "metadata": {},
   "outputs": [],
   "source": [
    "values = table_1.values[:, 1]\n",
    "R, r, m, h, d, w, l, m1, m2, m3, z0 = tuple(values)\n",
    "g = 9.8"
   ]
  },
  {
   "cell_type": "code",
   "execution_count": 4,
   "metadata": {},
   "outputs": [
    {
     "data": {
      "text/html": [
       "<div>\n",
       "<style scoped>\n",
       "    .dataframe tbody tr th:only-of-type {\n",
       "        vertical-align: middle;\n",
       "    }\n",
       "\n",
       "    .dataframe tbody tr th {\n",
       "        vertical-align: top;\n",
       "    }\n",
       "\n",
       "    .dataframe thead th {\n",
       "        text-align: right;\n",
       "    }\n",
       "</style>\n",
       "<table border=\"1\" class=\"dataframe\">\n",
       "  <thead>\n",
       "    <tr style=\"text-align: right;\">\n",
       "      <th></th>\n",
       "      <th>N</th>\n",
       "      <th>t, с</th>\n",
       "      <th>T, c</th>\n",
       "    </tr>\n",
       "  </thead>\n",
       "  <tbody>\n",
       "    <tr>\n",
       "      <th>0</th>\n",
       "      <td>10</td>\n",
       "      <td>44.268</td>\n",
       "      <td>4.4268</td>\n",
       "    </tr>\n",
       "    <tr>\n",
       "      <th>1</th>\n",
       "      <td>10</td>\n",
       "      <td>44.262</td>\n",
       "      <td>4.4262</td>\n",
       "    </tr>\n",
       "    <tr>\n",
       "      <th>2</th>\n",
       "      <td>10</td>\n",
       "      <td>44.405</td>\n",
       "      <td>4.4405</td>\n",
       "    </tr>\n",
       "    <tr>\n",
       "      <th>3</th>\n",
       "      <td>10</td>\n",
       "      <td>44.691</td>\n",
       "      <td>4.4691</td>\n",
       "    </tr>\n",
       "    <tr>\n",
       "      <th>4</th>\n",
       "      <td>10</td>\n",
       "      <td>44.183</td>\n",
       "      <td>4.4183</td>\n",
       "    </tr>\n",
       "  </tbody>\n",
       "</table>\n",
       "</div>"
      ],
      "text/plain": [
       "    N    t, с    T, c\n",
       "0  10  44.268  4.4268\n",
       "1  10  44.262  4.4262\n",
       "2  10  44.405  4.4405\n",
       "3  10  44.691  4.4691\n",
       "4  10  44.183  4.4183"
      ]
     },
     "execution_count": 4,
     "metadata": {},
     "output_type": "execute_result"
    }
   ],
   "source": [
    "table_2 = pd.read_excel('lab-1-2.xlsx', 'table-2')\n",
    "table_2.head(len(table_2))"
   ]
  },
  {
   "cell_type": "code",
   "execution_count": 5,
   "metadata": {},
   "outputs": [
    {
     "name": "stdout",
     "output_type": "stream",
     "text": [
      "4.43618 0.0022541916694092663\n"
     ]
    }
   ],
   "source": [
    "T = table_2.values[:, 2].mean()\n",
    "N = 10\n",
    "eps = 0.001 / (N * T)\n",
    "print(T, 100 * eps)"
   ]
  },
  {
   "cell_type": "markdown",
   "metadata": {},
   "source": [
    "Оценим погрешность измрения времени в $\\sigma_t = 0.1$ с. Тогда при $N=10$ измерениях погрешность будет $\\varepsilon = \\frac{\\sigma_t}{NT} \\approx 0.002\\%$."
   ]
  },
  {
   "cell_type": "code",
   "execution_count": 6,
   "metadata": {},
   "outputs": [
    {
     "name": "stdout",
     "output_type": "stream",
     "text": [
      "0.0004026356758808959\n"
     ]
    }
   ],
   "source": [
    "k = g * R * r / (4 * np.pi**2 * z0)\n",
    "print(k)"
   ]
  },
  {
   "cell_type": "markdown",
   "metadata": {},
   "source": [
    "Посчитаем $k = \\frac{gRr}{4\\pi^2 z_0} \\approx 0.0004$ м²/c² - константу установки. Тогда момент инерции равен $I = k(m+m_1+m_2)T^2$."
   ]
  },
  {
   "cell_type": "code",
   "execution_count": 7,
   "metadata": {},
   "outputs": [
    {
     "name": "stdout",
     "output_type": "stream",
     "text": [
      "0.007872242136944204\n"
     ]
    }
   ],
   "source": [
    "I0 = k * m * T ** 2\n",
    "print(I0)"
   ]
  },
  {
   "cell_type": "code",
   "execution_count": 8,
   "metadata": {},
   "outputs": [
    {
     "data": {
      "text/html": [
       "<div>\n",
       "<style scoped>\n",
       "    .dataframe tbody tr th:only-of-type {\n",
       "        vertical-align: middle;\n",
       "    }\n",
       "\n",
       "    .dataframe tbody tr th {\n",
       "        vertical-align: top;\n",
       "    }\n",
       "\n",
       "    .dataframe thead th {\n",
       "        text-align: right;\n",
       "    }\n",
       "</style>\n",
       "<table border=\"1\" class=\"dataframe\">\n",
       "  <thead>\n",
       "    <tr style=\"text-align: right;\">\n",
       "      <th></th>\n",
       "      <th>h, м</th>\n",
       "      <th>N</th>\n",
       "      <th>t, с</th>\n",
       "      <th>T, c</th>\n",
       "      <th>I, кг⋅м²</th>\n",
       "    </tr>\n",
       "  </thead>\n",
       "  <tbody>\n",
       "    <tr>\n",
       "      <th>0</th>\n",
       "      <td>0.000</td>\n",
       "      <td>10</td>\n",
       "      <td>30.538</td>\n",
       "      <td>3.0538</td>\n",
       "      <td>0.005737</td>\n",
       "    </tr>\n",
       "    <tr>\n",
       "      <th>1</th>\n",
       "      <td>0.005</td>\n",
       "      <td>10</td>\n",
       "      <td>30.920</td>\n",
       "      <td>3.0920</td>\n",
       "      <td>0.005882</td>\n",
       "    </tr>\n",
       "    <tr>\n",
       "      <th>2</th>\n",
       "      <td>0.010</td>\n",
       "      <td>10</td>\n",
       "      <td>31.600</td>\n",
       "      <td>3.1600</td>\n",
       "      <td>0.006143</td>\n",
       "    </tr>\n",
       "    <tr>\n",
       "      <th>3</th>\n",
       "      <td>0.015</td>\n",
       "      <td>10</td>\n",
       "      <td>32.091</td>\n",
       "      <td>3.2091</td>\n",
       "      <td>0.006336</td>\n",
       "    </tr>\n",
       "    <tr>\n",
       "      <th>4</th>\n",
       "      <td>0.020</td>\n",
       "      <td>10</td>\n",
       "      <td>32.860</td>\n",
       "      <td>3.2860</td>\n",
       "      <td>0.006643</td>\n",
       "    </tr>\n",
       "    <tr>\n",
       "      <th>5</th>\n",
       "      <td>0.025</td>\n",
       "      <td>10</td>\n",
       "      <td>33.732</td>\n",
       "      <td>3.3732</td>\n",
       "      <td>0.007000</td>\n",
       "    </tr>\n",
       "    <tr>\n",
       "      <th>6</th>\n",
       "      <td>0.030</td>\n",
       "      <td>10</td>\n",
       "      <td>34.771</td>\n",
       "      <td>3.4771</td>\n",
       "      <td>0.007438</td>\n",
       "    </tr>\n",
       "    <tr>\n",
       "      <th>7</th>\n",
       "      <td>0.035</td>\n",
       "      <td>10</td>\n",
       "      <td>35.781</td>\n",
       "      <td>3.5781</td>\n",
       "      <td>0.007877</td>\n",
       "    </tr>\n",
       "    <tr>\n",
       "      <th>8</th>\n",
       "      <td>0.040</td>\n",
       "      <td>10</td>\n",
       "      <td>37.044</td>\n",
       "      <td>3.7044</td>\n",
       "      <td>0.008443</td>\n",
       "    </tr>\n",
       "    <tr>\n",
       "      <th>9</th>\n",
       "      <td>0.045</td>\n",
       "      <td>10</td>\n",
       "      <td>38.227</td>\n",
       "      <td>3.8227</td>\n",
       "      <td>0.008990</td>\n",
       "    </tr>\n",
       "    <tr>\n",
       "      <th>10</th>\n",
       "      <td>0.050</td>\n",
       "      <td>10</td>\n",
       "      <td>39.490</td>\n",
       "      <td>3.9490</td>\n",
       "      <td>0.009594</td>\n",
       "    </tr>\n",
       "    <tr>\n",
       "      <th>11</th>\n",
       "      <td>0.055</td>\n",
       "      <td>10</td>\n",
       "      <td>40.890</td>\n",
       "      <td>4.0890</td>\n",
       "      <td>0.010287</td>\n",
       "    </tr>\n",
       "  </tbody>\n",
       "</table>\n",
       "</div>"
      ],
      "text/plain": [
       "     h, м   N    t, с    T, c  I, кг⋅м²\n",
       "0   0.000  10  30.538  3.0538  0.005737\n",
       "1   0.005  10  30.920  3.0920  0.005882\n",
       "2   0.010  10  31.600  3.1600  0.006143\n",
       "3   0.015  10  32.091  3.2091  0.006336\n",
       "4   0.020  10  32.860  3.2860  0.006643\n",
       "5   0.025  10  33.732  3.3732  0.007000\n",
       "6   0.030  10  34.771  3.4771  0.007438\n",
       "7   0.035  10  35.781  3.5781  0.007877\n",
       "8   0.040  10  37.044  3.7044  0.008443\n",
       "9   0.045  10  38.227  3.8227  0.008990\n",
       "10  0.050  10  39.490  3.9490  0.009594\n",
       "11  0.055  10  40.890  4.0890  0.010287"
      ]
     },
     "execution_count": 8,
     "metadata": {},
     "output_type": "execute_result"
    }
   ],
   "source": [
    "table_3 = pd.read_excel('lab-1-2.xlsx', 'table-3')\n",
    "table_3.head(len(table_3))"
   ]
  },
  {
   "cell_type": "code",
   "execution_count": 9,
   "metadata": {},
   "outputs": [],
   "source": [
    "x = table_3.values[:, 0] ** 2  # h^2\n",
    "y = table_3.values[:, 4]  # I"
   ]
  },
  {
   "cell_type": "code",
   "execution_count": 10,
   "metadata": {},
   "outputs": [],
   "source": [
    "k, b = np.polyfit(x, y, deg=1)"
   ]
  },
  {
   "cell_type": "code",
   "execution_count": 11,
   "metadata": {},
   "outputs": [],
   "source": [
    "dx = np.array([2 ** 0.5 * 0.0005] * 12)\n",
    "dy = [0.001 / 10] * 12"
   ]
  },
  {
   "cell_type": "code",
   "execution_count": 12,
   "metadata": {},
   "outputs": [
    {
     "data": {
      "image/png": "[encoded data removed]",
      "text/plain": [
       "<Figure size 1080x432 with 1 Axes>"
      ]
     },
     "metadata": {
      "needs_background": "light"
     },
     "output_type": "display_data"
    }
   ],
   "source": [
    "plt.figure(figsize=(15,6))\n",
    "plt.grid(linestyle='--')\n",
    "\n",
    "plt.title('Зависимость $I$ от $h^2$', fontweight='bold')\n",
    "plt.ylabel('$I, \\quad кг\\cdotм^2$')\n",
    "plt.xlabel('$h^2, \\quad м^2$')\n",
    "\n",
    "plt.scatter(x, y)\n",
    "plt.plot(x, k * x + b)\n",
    "\n",
    "plt.errorbar(x, y, xerr=dx, yerr=dy, fmt='o')\n",
    "\n",
    "plt.xlim((-0.001, 0.004))\n",
    "plt.ylim((0.0055, 0.0105))\n",
    "\n",
    "plt.show()"
   ]
  },
  {
   "cell_type": "code",
   "execution_count": 13,
   "metadata": {},
   "outputs": [
    {
     "name": "stdout",
     "output_type": "stream",
     "text": [
      "Ic = 0.005982181673402713\n",
      "m = 1.4691116381160008\n"
     ]
    }
   ],
   "source": [
    "print('Ic =', b)\n",
    "print('m =', k)"
   ]
  },
  {
   "cell_type": "code",
   "execution_count": 14,
   "metadata": {},
   "outputs": [
    {
     "name": "stdout",
     "output_type": "stream",
     "text": [
      "0.03362491351168945\n",
      "2.2887922632489848\n"
     ]
    }
   ],
   "source": [
    "dk = 12 ** -0.5 * (((y * y).mean() - y.mean() ** 2) / ((x * x).mean() - x.mean() ** 2) - k*k) ** 0.5\n",
    "print(dk)\n",
    "print(100*dk/k)"
   ]
  },
  {
   "cell_type": "markdown",
   "metadata": {},
   "source": [
    "Таким образом, погрешность равна $2.29\\%$."
   ]
  },
  {
   "cell_type": "markdown",
   "metadata": {},
   "source": [
    "Посчитаем теперь с бруском."
   ]
  },
  {
   "cell_type": "code",
   "execution_count": 15,
   "metadata": {},
   "outputs": [
    {
     "name": "stdout",
     "output_type": "stream",
     "text": [
      "44.75654890181067\n"
     ]
    }
   ],
   "source": [
    "N = 10\n",
    "t = 37.481\n",
    "T = t / N\n",
    "I = k * (m + m3) * T ** 2\n",
    "print(I)"
   ]
  },
  {
   "cell_type": "markdown",
   "metadata": {},
   "source": [
    "Таким образом, с бруском момент инерции $I \\approx 44.8$ кг$\\cdot$м$^2$."
   ]
  }
 ],
 "metadata": {
  "kernelspec": {
   "display_name": "Python 3",
   "language": "python",
   "name": "python3"
  },
  "language_info": {
   "codemirror_mode": {
    "name": "ipython",
    "version": 3
   },
   "file_extension": ".py",
   "mimetype": "text/x-python",
   "name": "python",
   "nbconvert_exporter": "python",
   "pygments_lexer": "ipython3",
   "version": "3.8.3"
  }
 },
 "nbformat": 4,
 "nbformat_minor": 2
}
