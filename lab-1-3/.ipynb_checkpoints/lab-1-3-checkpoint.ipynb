{
 "cells": [
  {
   "cell_type": "markdown",
   "metadata": {},
   "source": [
    "# Работа 1.3. Изучение колебаний на примере физического маятника"
   ]
  },
  {
   "cell_type": "markdown",
   "metadata": {},
   "source": [
    "**Цель работы**: исследовать физический и математический маятники как колебательные системы, измерить зависимость периода колебаний физического маятника от его момента инерции."
   ]
  },
  {
   "cell_type": "markdown",
   "metadata": {},
   "source": [
    "**В работе используются**: физический маятник (однородный стальной стержень), опорная призма, математический маятник, счётчик числа колебаний, линейка, секундомер."
   ]
  },
  {
   "cell_type": "markdown",
   "metadata": {},
   "source": [
    "## Теоретическое введение"
   ]
  },
  {
   "cell_type": "markdown",
   "metadata": {},
   "source": [
    "**Определения**. Пусть маятник подвешен так, что его длина составляет $a$. Пусть он отклонился на угол $\\phi$. У него есть угловая скорость $\\omega = \\frac{\\delta \\phi}{\\delta t} $, которая постоянна для всех точек маятника в силу того, что он является абсолютно твердым телом (то есть расстояние между частицами тела не меняется с течением времени). Тогда скорость $i$-й частицы есть $v_i = \\omega r_i$, где $r_i$ — расстояние от оси вращения до частицы. Напомним, что моментом инерции называется величина $ I = \\sum_{i=1}^{N} m_i r_i^2$, где $N$ — количество рассматриваемых частиц тела. Тогда можно кинетическая энергия маятника есть\n",
    "$$ \\sum_{i=1}^{N} \\frac{m_i v_i^2}{f} = \\frac{I\\omega^2}{2}. $$"
   ]
  },
  {
   "cell_type": "markdown",
   "metadata": {},
   "source": [
    "**Вывод уравнения движения**. Теперь можно найти полную энергию маятника в момент, когда он отклонился на угол $\\varphi$. Она равна $E=\\frac{I\\omega^2}{2} + Mga\\cdot(1-\\cos\\phi)$, где $M = \\sum_{i=1}^{N}m_i$ — масса маятника. Ясно, что эта величина постоянна и не зависит от времни.\n",
    "Так что из равенства производной по времени нулю выводится уравнение $\\phi'' + \\omega_0^2 \\sin\\phi = 0 $, где $\\omega_0 = \\sqrt{\\frac{Mga}{I}}$ — циклическая частота колебаний маятника. При малых углах (меньше 1 радиана) из разложения по Тейлору следует, что $ \\sin\\phi \\approx \\phi$, так что уравнение упрощается и получает решение вида $ \\phi(t) = A\\sin(\\omega_0 t + \\alpha)$, где $A$ — амплитуда. Можно разложить синус по Тейлору до второго члена, тогда получим $\\phi'' + \\omega_0^2 \\phi \\cdot(1 - \\frac{\\phi^2}{6}) = 0 $. Тогда можно считать, что $ \\omega_0 $ зависит от $\\phi$, и имеет место равенство $ \\omega = \\sqrt{\\omega_0(\\phi)} \\approx \\omega_0 \\cdot (1 - \\frac{\\phi^2}{12})$."
   ]
  },
  {
   "cell_type": "markdown",
   "metadata": {},
   "source": [
    "**Момент инерции**. Далее, найдем момент инерции стержня относительно оси, проходящей через один из его концов перпендикулярно стержню. Он имеет вид\n",
    "$$ \\int_0^l x^2 \\mbox{d}m = \\rho \\int_0^l x^2 \\mbox{d}x = \\rho \\frac{l^3}{3} = \\frac{Ml^2}{3}, $$\n",
    "где $l$ — длина маятника, $M$ — масса маятника, $\\rho = \\frac{M}{l}$ — плотность стержня. Тогда момент инерции маятника относительно центра масс есть $ 2 \\cdot \\frac{M}{2} \\cdot \\frac{l^2}{4} \\cdot \\frac{1}{3} = \\frac{Ml^2}{12} $."
   ]
  },
  {
   "cell_type": "markdown",
   "metadata": {},
   "source": [
    "**Теорема (Гюйгенса–Штейнера)**. Момент инерции $I$ относительно произвольной оси равен сумме момента инерции $I_0$ относительно оси, параллельной ей и проходящей через центр масс тела, и произведения массы тела $m$ на квадрат расстояния между осями $a$: $$I = I_0 + ma^2.$$\n",
    "\n",
    "_Доказательство_. Пусть $I_0 = \\sum m_i \\rho_i^2$,  $I = \\sum m_i r_i^2$ и $r_i = a + \\rho_i$. Знаем, что $ \\sum m_i \\rho_i = 0 $ векторно (по определению центра масс), тогда\n",
    "$$I = \\sum m_i r_i^2 = \\sum m_i a^2 + \\sum m_i \\rho_i^2 + 2 a \\sum m_i \\rho_i = I_0 + ma^2. $$"
   ]
  },
  {
   "cell_type": "markdown",
   "metadata": {},
   "source": [
    "**Затухание**. Предположим, что в системе имеют место потери энергии за счет трения. Пусть это трение таково, что амплитуда уменьшается равномерно: за одно и то же время амплитуда $A(t)$ убывает в одно и то же число раз. Такую зависимость $A(t)$ можно представить в виде $A(t)=A_0 e^{-\\gamma t}$, где величина 𝛾 имеет смысл обратного времени затухания амплитуды в $e$ раз и называется коэффициентом затухания.Затухающее колебание исследуемой величины является комбинацией медленного убывания амплитуды и гармонических колебаний: $\\phi(t)=A_0 e^{-\\gamma t} \\sin(\\omega t + \\alpha) $. Нетрудно убедиться, что это есть решение (при $\\gamma < \\omega_0$) следующего дифференциального уравнения: $ \\phi'' + 2\\gamma \\phi' + \\omega_o^2 \\phi = 0 $. Здесь $\\omega_0$ — собственная частота системы без затухания, а $\\omega^2 = \\omega^2_0 - \\gamma^2$ — частота свободных колебаний при затухании. Если затухание мало, то есть $\\gamma ≪ \\omega_0$, то различием частот $\\omega$ и $\\omega_0$ можно пренебречь: $\\omega \\approx \\omega_0$."
   ]
  },
  {
   "cell_type": "markdown",
   "metadata": {},
   "source": [
    "## Задание"
   ]
  },
  {
   "cell_type": "markdown",
   "metadata": {},
   "source": [
    "**1.** Определить диапазон амплитуд, в пределах которого период колебаний можно считать независящим от амплитуды.                              \n",
    "**2.** Исследовать зависимость T от a. Построить график функции $$T^2a$$ от $$a^2$$\n",
    "**3.** Сравнение приведенной длины физического маятника с длиной математического."
   ]
  },
  {
   "cell_type": "code",
   "execution_count": 1,
   "metadata": {},
   "outputs": [],
   "source": [
    "import numpy as np\n",
    "import pandas as pd\n",
    "import matplotlib.pyplot as plt\n",
    "%matplotlib inline"
   ]
  },
  {
   "cell_type": "markdown",
   "metadata": {},
   "source": [
    "### 1. Определение диапазона амплитуд"
   ]
  },
  {
   "cell_type": "code",
   "execution_count": 3,
   "metadata": {},
   "outputs": [
    {
     "data": {
      "text/html": [
       "<div>\n",
       "<style scoped>\n",
       "    .dataframe tbody tr th:only-of-type {\n",
       "        vertical-align: middle;\n",
       "    }\n",
       "\n",
       "    .dataframe tbody tr th {\n",
       "        vertical-align: top;\n",
       "    }\n",
       "\n",
       "    .dataframe thead th {\n",
       "        text-align: right;\n",
       "    }\n",
       "</style>\n",
       "<table border=\"1\" class=\"dataframe\">\n",
       "  <thead>\n",
       "    <tr style=\"text-align: right;\">\n",
       "      <th></th>\n",
       "      <th>№</th>\n",
       "      <th>a, м</th>\n",
       "      <th>t, с</th>\n",
       "      <th>T, с</th>\n",
       "      <th>N</th>\n",
       "      <th>Угол</th>\n",
       "    </tr>\n",
       "  </thead>\n",
       "  <tbody>\n",
       "    <tr>\n",
       "      <th>0</th>\n",
       "      <td>1</td>\n",
       "      <td>0.38</td>\n",
       "      <td>63.83</td>\n",
       "      <td>1.532</td>\n",
       "      <td>41</td>\n",
       "      <td>10</td>\n",
       "    </tr>\n",
       "    <tr>\n",
       "      <th>1</th>\n",
       "      <td>2</td>\n",
       "      <td>0.38</td>\n",
       "      <td>62.86</td>\n",
       "      <td>1.534</td>\n",
       "      <td>41</td>\n",
       "      <td>5</td>\n",
       "    </tr>\n",
       "    <tr>\n",
       "      <th>2</th>\n",
       "      <td>3</td>\n",
       "      <td>0.38</td>\n",
       "      <td>63.11</td>\n",
       "      <td>1.539</td>\n",
       "      <td>41</td>\n",
       "      <td>20</td>\n",
       "    </tr>\n",
       "    <tr>\n",
       "      <th>3</th>\n",
       "      <td>4</td>\n",
       "      <td>0.38</td>\n",
       "      <td>63.24</td>\n",
       "      <td>1.546</td>\n",
       "      <td>41</td>\n",
       "      <td>24</td>\n",
       "    </tr>\n",
       "  </tbody>\n",
       "</table>\n",
       "</div>"
      ],
      "text/plain": [
       "   №  a, м   t, с   T, с   N  Угол\n",
       "0  1  0.38  63.83  1.532  41    10\n",
       "1  2  0.38  62.86  1.534  41     5\n",
       "2  3  0.38  63.11  1.539  41    20\n",
       "3  4  0.38  63.24  1.546  41    24"
      ]
     },
     "execution_count": 3,
     "metadata": {},
     "output_type": "execute_result"
    }
   ],
   "source": [
    "table_2 = pd.read_excel('mm.xlsx')\n",
    "table_2.head(len(table_2))"
   ]
  },
  {
   "cell_type": "markdown",
   "metadata": {},
   "source": [
    "### 2. Определение величины свободного падения и длины стержня с помощью физического маятника"
   ]
  },
  {
   "cell_type": "markdown",
   "metadata": {},
   "source": [
    "Обозначим через $l$ расстояние от точки подвеса до конца маятника, через $t$ — время, за которое маятник совершин $n=20$ колебаний, через $a$ расстояние от точки подвеса до центра масс маятника. Тогда можно вычислить период $T=\\frac{t}{n}$ колебания маятника и построить график зависимости величины $aT^2$ от $a^2$."
   ]
  },
  {
   "cell_type": "code",
   "execution_count": 4,
   "metadata": {
    "scrolled": false
   },
   "outputs": [
    {
     "data": {
      "text/html": [
       "<div>\n",
       "<style scoped>\n",
       "    .dataframe tbody tr th:only-of-type {\n",
       "        vertical-align: middle;\n",
       "    }\n",
       "\n",
       "    .dataframe tbody tr th {\n",
       "        vertical-align: top;\n",
       "    }\n",
       "\n",
       "    .dataframe thead th {\n",
       "        text-align: right;\n",
       "    }\n",
       "</style>\n",
       "<table border=\"1\" class=\"dataframe\">\n",
       "  <thead>\n",
       "    <tr style=\"text-align: right;\">\n",
       "      <th></th>\n",
       "      <th>l (м)</th>\n",
       "      <th>t (с)</th>\n",
       "      <th>n</th>\n",
       "      <th>T (с)</th>\n",
       "      <th>a (м)</th>\n",
       "      <th>a² (м²)</th>\n",
       "      <th>aT² (м·с²)</th>\n",
       "    </tr>\n",
       "  </thead>\n",
       "  <tbody>\n",
       "    <tr>\n",
       "      <th>0</th>\n",
       "      <td>0.54</td>\n",
       "      <td>59.69</td>\n",
       "      <td>20</td>\n",
       "      <td>2.9845</td>\n",
       "      <td>0.04</td>\n",
       "      <td>0.0016</td>\n",
       "      <td>0.356290</td>\n",
       "    </tr>\n",
       "    <tr>\n",
       "      <th>1</th>\n",
       "      <td>0.58</td>\n",
       "      <td>42.41</td>\n",
       "      <td>20</td>\n",
       "      <td>2.1205</td>\n",
       "      <td>0.08</td>\n",
       "      <td>0.0064</td>\n",
       "      <td>0.359722</td>\n",
       "    </tr>\n",
       "    <tr>\n",
       "      <th>2</th>\n",
       "      <td>0.62</td>\n",
       "      <td>36.10</td>\n",
       "      <td>20</td>\n",
       "      <td>1.8050</td>\n",
       "      <td>0.12</td>\n",
       "      <td>0.0144</td>\n",
       "      <td>0.390963</td>\n",
       "    </tr>\n",
       "    <tr>\n",
       "      <th>3</th>\n",
       "      <td>0.66</td>\n",
       "      <td>33.06</td>\n",
       "      <td>20</td>\n",
       "      <td>1.6530</td>\n",
       "      <td>0.16</td>\n",
       "      <td>0.0256</td>\n",
       "      <td>0.437185</td>\n",
       "    </tr>\n",
       "    <tr>\n",
       "      <th>4</th>\n",
       "      <td>0.70</td>\n",
       "      <td>31.40</td>\n",
       "      <td>20</td>\n",
       "      <td>1.5700</td>\n",
       "      <td>0.20</td>\n",
       "      <td>0.0400</td>\n",
       "      <td>0.492980</td>\n",
       "    </tr>\n",
       "    <tr>\n",
       "      <th>5</th>\n",
       "      <td>0.74</td>\n",
       "      <td>30.75</td>\n",
       "      <td>20</td>\n",
       "      <td>1.5375</td>\n",
       "      <td>0.24</td>\n",
       "      <td>0.0576</td>\n",
       "      <td>0.567338</td>\n",
       "    </tr>\n",
       "    <tr>\n",
       "      <th>6</th>\n",
       "      <td>0.78</td>\n",
       "      <td>30.50</td>\n",
       "      <td>20</td>\n",
       "      <td>1.5250</td>\n",
       "      <td>0.28</td>\n",
       "      <td>0.0784</td>\n",
       "      <td>0.651175</td>\n",
       "    </tr>\n",
       "    <tr>\n",
       "      <th>7</th>\n",
       "      <td>0.82</td>\n",
       "      <td>30.37</td>\n",
       "      <td>20</td>\n",
       "      <td>1.5185</td>\n",
       "      <td>0.32</td>\n",
       "      <td>0.1024</td>\n",
       "      <td>0.737870</td>\n",
       "    </tr>\n",
       "    <tr>\n",
       "      <th>8</th>\n",
       "      <td>0.86</td>\n",
       "      <td>30.72</td>\n",
       "      <td>20</td>\n",
       "      <td>1.5360</td>\n",
       "      <td>0.36</td>\n",
       "      <td>0.1296</td>\n",
       "      <td>0.849347</td>\n",
       "    </tr>\n",
       "    <tr>\n",
       "      <th>9</th>\n",
       "      <td>0.90</td>\n",
       "      <td>31.44</td>\n",
       "      <td>20</td>\n",
       "      <td>1.5720</td>\n",
       "      <td>0.40</td>\n",
       "      <td>0.1600</td>\n",
       "      <td>0.988474</td>\n",
       "    </tr>\n",
       "  </tbody>\n",
       "</table>\n",
       "</div>"
      ],
      "text/plain": [
       "   l (м)  t (с)   n   T (с)  a (м)  a² (м²)  aT² (м·с²)\n",
       "0   0.54  59.69  20  2.9845   0.04   0.0016    0.356290\n",
       "1   0.58  42.41  20  2.1205   0.08   0.0064    0.359722\n",
       "2   0.62  36.10  20  1.8050   0.12   0.0144    0.390963\n",
       "3   0.66  33.06  20  1.6530   0.16   0.0256    0.437185\n",
       "4   0.70  31.40  20  1.5700   0.20   0.0400    0.492980\n",
       "5   0.74  30.75  20  1.5375   0.24   0.0576    0.567338\n",
       "6   0.78  30.50  20  1.5250   0.28   0.0784    0.651175\n",
       "7   0.82  30.37  20  1.5185   0.32   0.1024    0.737870\n",
       "8   0.86  30.72  20  1.5360   0.36   0.1296    0.849347\n",
       "9   0.90  31.44  20  1.5720   0.40   0.1600    0.988474"
      ]
     },
     "execution_count": 4,
     "metadata": {},
     "output_type": "execute_result"
    }
   ],
   "source": [
    "table_1 = pd.read_excel('lab-1-3.xlsx', 'Table1')\n",
    "table_1.head(len(table_1))"
   ]
  },
  {
   "cell_type": "markdown",
   "metadata": {},
   "source": [
    "**Погрешности**. Известно, что $ \\Delta a = \\Delta l = 0.001~м$, \n",
    "\n",
    "Погрешность секундомера есть $ \\Delta t = 0.5~с$."
   ]
  },
  {
   "cell_type": "code",
   "execution_count": 5,
   "metadata": {},
   "outputs": [],
   "source": [
    "x = table_1.values[:, 5]  # a^2\n",
    "y = table_1.values[:, 6]  # a T^2 \n",
    "\n",
    "a = table_1.values[:, 4]  # a\n",
    "dx = 2 * a * 0.001\n",
    "t = table_1.values[:, 1]  # t\n",
    "dy = y * (0.001 / a + 2 * 0.5 / t)\n",
    "\n",
    "k, b = np.polyfit(x, y, deg=1)\n",
    "k1, b1 = np.polyfit(x, y + dy * np.linspace(-1, 1, len(dy)), deg=1)\n",
    "k2, b2 = np.polyfit(x, y - dy * np.linspace(-1, 1, len(dy)), deg=1)"
   ]
  },
  {
   "cell_type": "code",
   "execution_count": 6,
   "metadata": {
    "scrolled": false
   },
   "outputs": [
    {
     "data": {
      "image/png": "[encoded data removed]",
      "text/plain": [
       "<Figure size 864x576 with 1 Axes>"
      ]
     },
     "metadata": {
      "needs_background": "light"
     },
     "output_type": "display_data"
    }
   ],
   "source": [
    "plt.figure(figsize=(12, 8))\n",
    "plt.grid(linestyle='--')\n",
    "\n",
    "plt.title('Зависимость $aT^2 $ от $a^2$', fontweight='bold')\n",
    "plt.xlabel('$a^2, \\quad c^2$')\n",
    "plt.ylabel('$aT^2, \\quad м \\cdot м^2$')\n",
    "\n",
    "plt.scatter(x, y)\n",
    "plt.plot(x, k * x + b)\n",
    "plt.plot(x, k1 * x + b1, '--')\n",
    "plt.plot(x, k2 * x + b2, '--')\n",
    "\n",
    "plt.errorbar(x, y, xerr=dx, yerr=dy, fmt='o')\n",
    "\n",
    "plt.show()"
   ]
  },
  {
   "cell_type": "markdown",
   "metadata": {},
   "source": [
    "Как говорилось в теоретическом введении, $  T = 2 \\pi \\sqrt{\\frac{a^2 + \\frac{l^2}{12}}{ag}} $, а значит,\n",
    "$$ aT^2 = \\frac{4\\pi^2}{g}a^2 + \\frac{4\\pi^2l^2}{12g}.$$\n",
    "Мы имеем $ k = \\frac{4\\pi^2}{g} $ и $ b = \\frac{4\\pi^2l^2}{12g} $, откуда\n",
    "$$ g = \\frac{4 \\pi^2}{k}, \\quad l = \\frac{1}{\\pi} \\sqrt{3gb}. $$"
   ]
  },
  {
   "cell_type": "code",
   "execution_count": 7,
   "metadata": {},
   "outputs": [
    {
     "name": "stdout",
     "output_type": "stream",
     "text": [
      "9.860918084216316\n",
      "1.0043221056905483\n"
     ]
    }
   ],
   "source": [
    "g = 4 * np.pi ** 2 / k\n",
    "l = np.sqrt(3 * g * b) / np.pi\n",
    "\n",
    "print(g)\n",
    "print(l)"
   ]
  },
  {
   "cell_type": "markdown",
   "metadata": {},
   "source": [
    "Таким образом, получено $g = 9.86 \\cdot с^2 $ и  $ l = 1.004 \\cdot м $"
   ]
  },
  {
   "cell_type": "markdown",
   "metadata": {},
   "source": [
    "### 3. Сравнение приведенной длины физического маятника  с длиной математического маятника"
   ]
  },
  {
   "cell_type": "markdown",
   "metadata": {},
   "source": [
    "Обозначим теперь через $l$ расстояние от точки подвеса до центра масс математического маятника, через $t$ время, за которое маятник совершил $n$ колебаний. Тогда по формуле $T =\\frac{t}{n}$ можно найти период математического маятника и построить зависимость величины $T^2$ от $l$."
   ]
  },
  {
   "cell_type": "markdown",
   "metadata": {},
   "source": [
    "В каждом измерении изначальная амплитуда была $25~см$, а время и число колебаний измерялось до того момента, когда амплитуда уменьшилась примерно в $3 \\approx e$ раз, то есть составляла чуть больше $9~см$."
   ]
  },
  {
   "cell_type": "code",
   "execution_count": 8,
   "metadata": {},
   "outputs": [
    {
     "data": {
      "text/html": [
       "<div>\n",
       "<style scoped>\n",
       "    .dataframe tbody tr th:only-of-type {\n",
       "        vertical-align: middle;\n",
       "    }\n",
       "\n",
       "    .dataframe tbody tr th {\n",
       "        vertical-align: top;\n",
       "    }\n",
       "\n",
       "    .dataframe thead th {\n",
       "        text-align: right;\n",
       "    }\n",
       "</style>\n",
       "<table border=\"1\" class=\"dataframe\">\n",
       "  <thead>\n",
       "    <tr style=\"text-align: right;\">\n",
       "      <th></th>\n",
       "      <th>l (м)</th>\n",
       "      <th>t (с)</th>\n",
       "      <th>n</th>\n",
       "      <th>T (с)</th>\n",
       "      <th>T² (с²)</th>\n",
       "    </tr>\n",
       "  </thead>\n",
       "  <tbody>\n",
       "    <tr>\n",
       "      <th>0</th>\n",
       "      <td>0.45</td>\n",
       "      <td>290.97</td>\n",
       "      <td>202</td>\n",
       "      <td>1.440446</td>\n",
       "      <td>2.074883</td>\n",
       "    </tr>\n",
       "    <tr>\n",
       "      <th>1</th>\n",
       "      <td>0.50</td>\n",
       "      <td>299.47</td>\n",
       "      <td>215</td>\n",
       "      <td>1.392884</td>\n",
       "      <td>1.940125</td>\n",
       "    </tr>\n",
       "    <tr>\n",
       "      <th>2</th>\n",
       "      <td>0.55</td>\n",
       "      <td>304.31</td>\n",
       "      <td>206</td>\n",
       "      <td>1.477233</td>\n",
       "      <td>2.182217</td>\n",
       "    </tr>\n",
       "    <tr>\n",
       "      <th>3</th>\n",
       "      <td>0.60</td>\n",
       "      <td>321.69</td>\n",
       "      <td>204</td>\n",
       "      <td>1.576912</td>\n",
       "      <td>2.486651</td>\n",
       "    </tr>\n",
       "    <tr>\n",
       "      <th>4</th>\n",
       "      <td>0.65</td>\n",
       "      <td>251.34</td>\n",
       "      <td>159</td>\n",
       "      <td>1.580755</td>\n",
       "      <td>2.498785</td>\n",
       "    </tr>\n",
       "    <tr>\n",
       "      <th>5</th>\n",
       "      <td>0.70</td>\n",
       "      <td>240.40</td>\n",
       "      <td>149</td>\n",
       "      <td>1.613423</td>\n",
       "      <td>2.603133</td>\n",
       "    </tr>\n",
       "    <tr>\n",
       "      <th>6</th>\n",
       "      <td>0.75</td>\n",
       "      <td>272.34</td>\n",
       "      <td>150</td>\n",
       "      <td>1.815600</td>\n",
       "      <td>3.296403</td>\n",
       "    </tr>\n",
       "    <tr>\n",
       "      <th>7</th>\n",
       "      <td>0.80</td>\n",
       "      <td>302.28</td>\n",
       "      <td>170</td>\n",
       "      <td>1.778118</td>\n",
       "      <td>3.161702</td>\n",
       "    </tr>\n",
       "  </tbody>\n",
       "</table>\n",
       "</div>"
      ],
      "text/plain": [
       "   l (м)   t (с)    n     T (с)   T² (с²)\n",
       "0   0.45  290.97  202  1.440446  2.074883\n",
       "1   0.50  299.47  215  1.392884  1.940125\n",
       "2   0.55  304.31  206  1.477233  2.182217\n",
       "3   0.60  321.69  204  1.576912  2.486651\n",
       "4   0.65  251.34  159  1.580755  2.498785\n",
       "5   0.70  240.40  149  1.613423  2.603133\n",
       "6   0.75  272.34  150  1.815600  3.296403\n",
       "7   0.80  302.28  170  1.778118  3.161702"
      ]
     },
     "execution_count": 8,
     "metadata": {},
     "output_type": "execute_result"
    }
   ],
   "source": [
    "table_2 = pd.read_excel('lab-1-3.xlsx', 'Table2')\n",
    "table_2.head(len(table_2))"
   ]
  },
  {
   "cell_type": "markdown",
   "metadata": {},
   "source": [
    "Заметим, что при $l=0.6~м$ период $T=1.576912 \\approx 1.5700~c$, который достигался при $a = 0.2~м$ для физического маятника. Приведенную длину физического маятника в этом случае вычисляется по формуле\n",
    "$$ l_{пр} = a + \\frac{l^2}{12a}, $$\n",
    "где $ l \\approx 1.004~м$ — длина физического маятника, найденная в предыдущем пункте."
   ]
  },
  {
   "cell_type": "markdown",
   "metadata": {},
   "source": [
    "**Погрешности**. Знаем, что $\\Delta l_{пр} = \\Delta a + \\frac{l^2}{12a} \\cdot (2\\frac{\\Delta l}{l} + \\frac{\\Delta a}{a})$"
   ]
  },
  {
   "cell_type": "code",
   "execution_count": 9,
   "metadata": {},
   "outputs": [
    {
     "ename": "NameError",
     "evalue": "name 'dl' is not defined",
     "output_type": "error",
     "traceback": [
      "\u001b[1;31m---------------------------------------------------------------------------\u001b[0m",
      "\u001b[1;31mNameError\u001b[0m                                 Traceback (most recent call last)",
      "\u001b[1;32m<ipython-input-9-4759b2270398>\u001b[0m in \u001b[0;36m<module>\u001b[1;34m\u001b[0m\n\u001b[0;32m      1\u001b[0m \u001b[0ma\u001b[0m \u001b[1;33m=\u001b[0m \u001b[1;36m0.2\u001b[0m\u001b[1;33m\u001b[0m\u001b[1;33m\u001b[0m\u001b[0m\n\u001b[0;32m      2\u001b[0m \u001b[0ml_pr\u001b[0m \u001b[1;33m=\u001b[0m \u001b[0ma\u001b[0m \u001b[1;33m+\u001b[0m \u001b[0ml\u001b[0m \u001b[1;33m**\u001b[0m \u001b[1;36m2\u001b[0m \u001b[1;33m/\u001b[0m \u001b[1;33m(\u001b[0m\u001b[1;36m12\u001b[0m \u001b[1;33m*\u001b[0m \u001b[0ma\u001b[0m\u001b[1;33m)\u001b[0m\u001b[1;33m\u001b[0m\u001b[1;33m\u001b[0m\u001b[0m\n\u001b[1;32m----> 3\u001b[1;33m \u001b[0mdl_pr\u001b[0m \u001b[1;33m=\u001b[0m \u001b[1;36m0.001\u001b[0m \u001b[1;33m+\u001b[0m \u001b[0ml\u001b[0m \u001b[1;33m**\u001b[0m \u001b[1;36m2\u001b[0m \u001b[1;33m/\u001b[0m \u001b[1;33m(\u001b[0m\u001b[1;36m12\u001b[0m \u001b[1;33m*\u001b[0m \u001b[0ma\u001b[0m \u001b[1;33m)\u001b[0m \u001b[1;33m*\u001b[0m \u001b[1;33m(\u001b[0m\u001b[1;36m2\u001b[0m \u001b[1;33m*\u001b[0m \u001b[0mdl\u001b[0m \u001b[1;33m/\u001b[0m \u001b[0ml\u001b[0m \u001b[1;33m+\u001b[0m \u001b[1;36m0.001\u001b[0m \u001b[1;33m/\u001b[0m \u001b[0ma\u001b[0m\u001b[1;33m)\u001b[0m\u001b[1;33m\u001b[0m\u001b[1;33m\u001b[0m\u001b[0m\n\u001b[0m\u001b[0;32m      4\u001b[0m \u001b[0mprint\u001b[0m\u001b[1;33m(\u001b[0m\u001b[0ml_pr\u001b[0m\u001b[1;33m,\u001b[0m \u001b[0mdl_pr\u001b[0m\u001b[1;33m)\u001b[0m\u001b[1;33m\u001b[0m\u001b[1;33m\u001b[0m\u001b[0m\n",
      "\u001b[1;31mNameError\u001b[0m: name 'dl' is not defined"
     ]
    }
   ],
   "source": [
    "a = 0.2\n",
    "l_pr = a + l ** 2 / (12 * a)\n",
    "dl_pr = 0.001 + l ** 2 / (12 * a ) * (2 * dl / l + 0.001 / a)\n",
    "print(l_pr, dl_pr)"
   ]
  },
  {
   "cell_type": "markdown",
   "metadata": {},
   "source": [
    "Таким образом, $l_{пр} = 0.62 \\pm 0.05~м$."
   ]
  },
  {
   "cell_type": "code",
   "execution_count": null,
   "metadata": {
    "collapsed": true
   },
   "outputs": [],
   "source": []
  }
 ],
 "metadata": {
  "kernelspec": {
   "display_name": "Python 3",
   "language": "python",
   "name": "python3"
  },
  "language_info": {
   "codemirror_mode": {
    "name": "ipython",
    "version": 3
   },
   "file_extension": ".py",
   "mimetype": "text/x-python",
   "name": "python",
   "nbconvert_exporter": "python",
   "pygments_lexer": "ipython3",
   "version": "3.8.3"
  }
 },
 "nbformat": 4,
 "nbformat_minor": 2
}
