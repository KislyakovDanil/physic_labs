{
 "cells": [
  {
   "cell_type": "markdown",
   "metadata": {},
   "source": [
    "# Работа 1.1. Определение скорости полета пули при помощи баллистического маятника\n",
    "\n",
    "**Цель работы**: определить скорость полёта пули, применяя законы сохранения и используя баллистический маятник; познакомиться с базовыми принципами обработки экспериментальных данных.\n",
    "\n",
    "**В работе используются**: духовое ружье на штативе, осветитель, оптическая система для измерения отклонений маятника, измерительная линейка, пули и весы для их взвешивания, баллистический маятник."
   ]
  },
  {
   "cell_type": "markdown",
   "metadata": {},
   "source": [
    "Положим $L=3.2$ м — длина нити, $g=9.8$ м/c — величина ускорения свободного падения, $M=3$ кг — масса балистического маятника.\n",
    "Через $\\Delta x$ обозначим отклонение маятника, через $m$ — массу пули, через $u$ — скорость пули при вылете, через $\\sigma_t$ — абсолютную ошибку величины $t$, а через $\\varepsilon_t$ — относительную."
   ]
  },
  {
   "cell_type": "markdown",
   "metadata": {},
   "source": [
    "По формуле скорость пули есть $u = \\frac{M}{m} \\sqrt{\\frac{g}{L}} \\Delta x$, откуда относительная ошибка скорости пули составляет $\\varepsilon_u=\\sqrt{\\left(\\frac{\\sigma_M}{M}\\right)^2+\\left(\\frac{\\sigma_m}{m}\\right)^2+\\left(\\frac{\\sigma_L}{2L}\\right)^2+\\left(\\frac{\\sigma_{\\Delta x}}{\\Delta x}\\right)^2}$.\n",
    "Ясно, что слагаемое $\\left(\\frac{\\sigma_{\\Delta x}}{\\Delta x}\\right)^2$ существенно превышает все остальные, так что можно считать $\\sigma_u \\approx \\frac{\\sigma_{\\Delta x}}{\\Delta x}$."
   ]
  },
  {
   "cell_type": "markdown",
   "metadata": {},
   "source": [
    "Погрешность измерения $x$ есть половина цены деления, то есть $0.000125$ м. Таким образом, $\\sigma_x \\approx 0.000176$ м."
   ]
  },
  {
   "cell_type": "code",
   "execution_count": 3,
   "metadata": {},
   "outputs": [],
   "source": [
    "import pandas as pd"
   ]
  },
  {
   "cell_type": "code",
   "execution_count": 4,
   "metadata": {},
   "outputs": [
    {
     "data": {
      "text/html": [
       "<div>\n",
       "<style scoped>\n",
       "    .dataframe tbody tr th:only-of-type {\n",
       "        vertical-align: middle;\n",
       "    }\n",
       "\n",
       "    .dataframe tbody tr th {\n",
       "        vertical-align: top;\n",
       "    }\n",
       "\n",
       "    .dataframe thead th {\n",
       "        text-align: right;\n",
       "    }\n",
       "</style>\n",
       "<table border=\"1\" class=\"dataframe\">\n",
       "  <thead>\n",
       "    <tr style=\"text-align: right;\">\n",
       "      <th></th>\n",
       "      <th>Δx, м</th>\n",
       "      <th>m, кг</th>\n",
       "      <th>u, м/с</th>\n",
       "      <th>σᵤ, м/с</th>\n",
       "    </tr>\n",
       "  </thead>\n",
       "  <tbody>\n",
       "    <tr>\n",
       "      <th>0</th>\n",
       "      <td>0.01250</td>\n",
       "      <td>0.000510</td>\n",
       "      <td>128.676471</td>\n",
       "      <td>1.819760</td>\n",
       "    </tr>\n",
       "    <tr>\n",
       "      <th>1</th>\n",
       "      <td>0.01275</td>\n",
       "      <td>0.000517</td>\n",
       "      <td>129.472921</td>\n",
       "      <td>1.795121</td>\n",
       "    </tr>\n",
       "    <tr>\n",
       "      <th>2</th>\n",
       "      <td>0.01275</td>\n",
       "      <td>0.000527</td>\n",
       "      <td>127.016129</td>\n",
       "      <td>1.761058</td>\n",
       "    </tr>\n",
       "    <tr>\n",
       "      <th>3</th>\n",
       "      <td>0.01200</td>\n",
       "      <td>0.000518</td>\n",
       "      <td>121.621622</td>\n",
       "      <td>1.791656</td>\n",
       "    </tr>\n",
       "    <tr>\n",
       "      <th>4</th>\n",
       "      <td>0.01200</td>\n",
       "      <td>0.000527</td>\n",
       "      <td>119.544592</td>\n",
       "      <td>1.761058</td>\n",
       "    </tr>\n",
       "    <tr>\n",
       "      <th>5</th>\n",
       "      <td>0.01200</td>\n",
       "      <td>0.000520</td>\n",
       "      <td>121.153846</td>\n",
       "      <td>1.784765</td>\n",
       "    </tr>\n",
       "    <tr>\n",
       "      <th>6</th>\n",
       "      <td>0.01225</td>\n",
       "      <td>0.000512</td>\n",
       "      <td>125.610352</td>\n",
       "      <td>1.812652</td>\n",
       "    </tr>\n",
       "    <tr>\n",
       "      <th>7</th>\n",
       "      <td>0.01225</td>\n",
       "      <td>0.000528</td>\n",
       "      <td>121.803977</td>\n",
       "      <td>1.757723</td>\n",
       "    </tr>\n",
       "    <tr>\n",
       "      <th>8</th>\n",
       "      <td>0.01225</td>\n",
       "      <td>0.000524</td>\n",
       "      <td>122.733779</td>\n",
       "      <td>1.771141</td>\n",
       "    </tr>\n",
       "    <tr>\n",
       "      <th>9</th>\n",
       "      <td>0.01125</td>\n",
       "      <td>0.000520</td>\n",
       "      <td>113.581731</td>\n",
       "      <td>1.784765</td>\n",
       "    </tr>\n",
       "  </tbody>\n",
       "</table>\n",
       "</div>"
      ],
      "text/plain": [
       "     Δx, м     m, кг      u, м/с   σᵤ, м/с\n",
       "0  0.01250  0.000510  128.676471  1.819760\n",
       "1  0.01275  0.000517  129.472921  1.795121\n",
       "2  0.01275  0.000527  127.016129  1.761058\n",
       "3  0.01200  0.000518  121.621622  1.791656\n",
       "4  0.01200  0.000527  119.544592  1.761058\n",
       "5  0.01200  0.000520  121.153846  1.784765\n",
       "6  0.01225  0.000512  125.610352  1.812652\n",
       "7  0.01225  0.000528  121.803977  1.757723\n",
       "8  0.01225  0.000524  122.733779  1.771141\n",
       "9  0.01125  0.000520  113.581731  1.784765"
      ]
     },
     "execution_count": 4,
     "metadata": {},
     "output_type": "execute_result"
    }
   ],
   "source": [
    "data = pd.read_excel('lab-1-1.xlsx', 'table-1')\n",
    "data.head(len(data))"
   ]
  },
  {
   "cell_type": "code",
   "execution_count": 5,
   "metadata": {},
   "outputs": [
    {
     "name": "stdout",
     "output_type": "stream",
     "text": [
      "123.12154184\n",
      "4.520726915689748\n"
     ]
    }
   ],
   "source": [
    "u = data.values[:, 2]\n",
    "print(u.mean())\n",
    "print(u.std())"
   ]
  },
  {
   "cell_type": "markdown",
   "metadata": {},
   "source": [
    "Таким образом, средняя скорость составляет $u_{ср}=123$ м/с, а разброс относительно среднего есть $\\sigma_u^{разброс}=4.5$ м/с."
   ]
  }
 ],
 "metadata": {
  "kernelspec": {
   "display_name": "Python 3",
   "language": "python",
   "name": "python3"
  },
  "language_info": {
   "codemirror_mode": {
    "name": "ipython",
    "version": 3
   },
   "file_extension": ".py",
   "mimetype": "text/x-python",
   "name": "python",
   "nbconvert_exporter": "python",
   "pygments_lexer": "ipython3",
   "version": "3.8.3"
  }
 },
 "nbformat": 4,
 "nbformat_minor": 2
}
