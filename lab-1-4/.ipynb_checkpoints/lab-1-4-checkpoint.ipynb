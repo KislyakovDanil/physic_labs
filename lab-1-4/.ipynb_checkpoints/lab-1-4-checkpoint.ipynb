{
 "cells": [
  {
   "cell_type": "markdown",
   "metadata": {},
   "source": [
    "# Работа 1.4. Исследование вынужденной прецессии гироскопа"
   ]
  },
  {
   "cell_type": "markdown",
   "metadata": {},
   "source": [
    "**Цель работы**: исследовать вынужденную прецессию уравновешенного симметричного гироскопа; установить зависимость угловой скорости вынужденной прецессии от величины момента сил, действующих на ось гироскопа; по угловой скорости прецессии определить\n",
    "угловую скорость вращения ротора гироскопа.\n",
    "\n",
    "**В работе используются**: гироскоп в кардановом подвесе, секундомер, набор грузов, отдельный ротор гироскопа, цилиндр известной\n",
    "массы, крутильный маятник, штангенциркуль, линейка."
   ]
  },
  {
   "cell_type": "code",
   "execution_count": 1,
   "metadata": {},
   "outputs": [],
   "source": [
    "import numpy as np\n",
    "import pandas as pd\n",
    "import matplotlib.pyplot as plt\n",
    "%matplotlib inline"
   ]
  },
  {
   "cell_type": "markdown",
   "metadata": {},
   "source": [
    "**Параметры установки**"
   ]
  },
  {
   "cell_type": "markdown",
   "metadata": {},
   "source": [
    "$f = 440$ Гц - резонансная частота.  \n",
    "$l = 12,1$ см - расстояние до крайней риски.  \n",
    "$T_{э} = 9 $ c - период эталона.  \n",
    "$M_{э} = 1618.9 \\pm 0.5 $ г - масса эталона.  \n",
    "$R_{э} = 4$ см - радиус эталона.  \n",
    "$T_{г} = 7$ с - период гироскопа.  "
   ]
  },
  {
   "cell_type": "markdown",
   "metadata": {},
   "source": [
    "**Теоретические формулы**"
   ]
  },
  {
   "cell_type": "markdown",
   "metadata": {},
   "source": [
    "$$\\Omega = \\frac{mgl}{J_0\\omega_0}$$\n",
    "$$J_э = \\frac{M_эR_э^2}{2}$$\n",
    "$$\\frac{J_г}{J_э} = \\left(\\frac{T_г}{T_ц}\\right)^2$$"
   ]
  },
  {
   "cell_type": "markdown",
   "metadata": {},
   "source": [
    "**Построение графика**"
   ]
  },
  {
   "cell_type": "code",
   "execution_count": 2,
   "metadata": {},
   "outputs": [
    {
     "data": {
      "text/html": [
       "<div>\n",
       "<style scoped>\n",
       "    .dataframe tbody tr th:only-of-type {\n",
       "        vertical-align: middle;\n",
       "    }\n",
       "\n",
       "    .dataframe tbody tr th {\n",
       "        vertical-align: top;\n",
       "    }\n",
       "\n",
       "    .dataframe thead th {\n",
       "        text-align: right;\n",
       "    }\n",
       "</style>\n",
       "<table border=\"1\" class=\"dataframe\">\n",
       "  <thead>\n",
       "    <tr style=\"text-align: right;\">\n",
       "      <th></th>\n",
       "      <th>m, г</th>\n",
       "      <th>M, кг⋅м²/с²</th>\n",
       "      <th>ΔM, кг⋅м²/с²</th>\n",
       "      <th>T, с</th>\n",
       "      <th>ΔT, с</th>\n",
       "      <th>Ω, рад/c</th>\n",
       "      <th>ΔΩ, рад/c</th>\n",
       "    </tr>\n",
       "  </thead>\n",
       "  <tbody>\n",
       "    <tr>\n",
       "      <th>0</th>\n",
       "      <td>60</td>\n",
       "      <td>71.1</td>\n",
       "      <td>1.19</td>\n",
       "      <td>200.4</td>\n",
       "      <td>1</td>\n",
       "      <td>0.031</td>\n",
       "      <td>0.00015</td>\n",
       "    </tr>\n",
       "    <tr>\n",
       "      <th>1</th>\n",
       "      <td>76</td>\n",
       "      <td>90.1</td>\n",
       "      <td>1.19</td>\n",
       "      <td>156.0</td>\n",
       "      <td>1</td>\n",
       "      <td>0.040</td>\n",
       "      <td>0.00026</td>\n",
       "    </tr>\n",
       "    <tr>\n",
       "      <th>2</th>\n",
       "      <td>93</td>\n",
       "      <td>110.3</td>\n",
       "      <td>1.19</td>\n",
       "      <td>136.8</td>\n",
       "      <td>1</td>\n",
       "      <td>0.046</td>\n",
       "      <td>0.00034</td>\n",
       "    </tr>\n",
       "    <tr>\n",
       "      <th>3</th>\n",
       "      <td>116</td>\n",
       "      <td>137.6</td>\n",
       "      <td>1.19</td>\n",
       "      <td>101.4</td>\n",
       "      <td>1</td>\n",
       "      <td>0.062</td>\n",
       "      <td>0.00061</td>\n",
       "    </tr>\n",
       "    <tr>\n",
       "      <th>4</th>\n",
       "      <td>141</td>\n",
       "      <td>167.2</td>\n",
       "      <td>1.19</td>\n",
       "      <td>82.8</td>\n",
       "      <td>1</td>\n",
       "      <td>0.076</td>\n",
       "      <td>0.00092</td>\n",
       "    </tr>\n",
       "    <tr>\n",
       "      <th>5</th>\n",
       "      <td>173</td>\n",
       "      <td>205.1</td>\n",
       "      <td>1.19</td>\n",
       "      <td>70.8</td>\n",
       "      <td>1</td>\n",
       "      <td>0.089</td>\n",
       "      <td>0.00126</td>\n",
       "    </tr>\n",
       "    <tr>\n",
       "      <th>6</th>\n",
       "      <td>215</td>\n",
       "      <td>254.9</td>\n",
       "      <td>1.19</td>\n",
       "      <td>55.2</td>\n",
       "      <td>1</td>\n",
       "      <td>0.114</td>\n",
       "      <td>0.00207</td>\n",
       "    </tr>\n",
       "    <tr>\n",
       "      <th>7</th>\n",
       "      <td>268</td>\n",
       "      <td>317.8</td>\n",
       "      <td>1.19</td>\n",
       "      <td>44.7</td>\n",
       "      <td>1</td>\n",
       "      <td>0.141</td>\n",
       "      <td>0.00315</td>\n",
       "    </tr>\n",
       "    <tr>\n",
       "      <th>8</th>\n",
       "      <td>335</td>\n",
       "      <td>397.2</td>\n",
       "      <td>1.19</td>\n",
       "      <td>36.0</td>\n",
       "      <td>1</td>\n",
       "      <td>0.175</td>\n",
       "      <td>0.00486</td>\n",
       "    </tr>\n",
       "  </tbody>\n",
       "</table>\n",
       "</div>"
      ],
      "text/plain": [
       "   m, г  M, кг⋅м²/с²  ΔM, кг⋅м²/с²   T, с  ΔT, с  Ω, рад/c  ΔΩ, рад/c\n",
       "0    60         71.1          1.19  200.4      1     0.031    0.00015\n",
       "1    76         90.1          1.19  156.0      1     0.040    0.00026\n",
       "2    93        110.3          1.19  136.8      1     0.046    0.00034\n",
       "3   116        137.6          1.19  101.4      1     0.062    0.00061\n",
       "4   141        167.2          1.19   82.8      1     0.076    0.00092\n",
       "5   173        205.1          1.19   70.8      1     0.089    0.00126\n",
       "6   215        254.9          1.19   55.2      1     0.114    0.00207\n",
       "7   268        317.8          1.19   44.7      1     0.141    0.00315\n",
       "8   335        397.2          1.19   36.0      1     0.175    0.00486"
      ]
     },
     "execution_count": 2,
     "metadata": {},
     "output_type": "execute_result"
    }
   ],
   "source": [
    "data = pd.read_excel('lab-1-4.xlsx', 'table-1')\n",
    "data.head(len(data))"
   ]
  },
  {
   "cell_type": "code",
   "execution_count": 3,
   "metadata": {},
   "outputs": [],
   "source": [
    "x = data.values[:, 1]\n",
    "y = data.values[:, 5]\n",
    "dx = data.values[:, 2]\n",
    "dy = data.values[:, 6]"
   ]
  },
  {
   "cell_type": "code",
   "execution_count": 4,
   "metadata": {},
   "outputs": [],
   "source": [
    "k, b = np.polyfit(x, y, deg=1)"
   ]
  },
  {
   "cell_type": "code",
   "execution_count": 5,
   "metadata": {},
   "outputs": [],
   "source": [
    "grid = np.linspace(0.0, np.max(x), 300)"
   ]
  },
  {
   "cell_type": "code",
   "execution_count": 6,
   "metadata": {},
   "outputs": [
    {
     "data": {
      "image/png": "[encoded data removed]",
      "text/plain": [
       "<Figure size 864x576 with 1 Axes>"
      ]
     },
     "metadata": {
      "needs_background": "light"
     },
     "output_type": "display_data"
    }
   ],
   "source": [
    "plt.figure(figsize=(12, 8))\n",
    "\n",
    "plt.grid(linestyle='--')\n",
    "\n",
    "plt.title('Зависимость $\\Omega$ от $M$', fontweight='bold', fontsize=20)\n",
    "plt.xlabel('$M$, $\\\\frac{кг\\\\cdot м^2}{с^2}$', fontsize=16)\n",
    "plt.ylabel('$\\Omega$, $\\\\frac{рад}{с^2}$', fontsize=16)\n",
    "\n",
    "plt.plot(grid, k * grid + b)\n",
    "plt.errorbar(x, y, xerr=dx, yerr=dy, fmt='o')\n",
    "\n",
    "plt.show()"
   ]
  },
  {
   "cell_type": "markdown",
   "metadata": {},
   "source": [
    "**Вычисление момента инерции**"
   ]
  },
  {
   "cell_type": "code",
   "execution_count": 7,
   "metadata": {},
   "outputs": [
    {
     "name": "stdout",
     "output_type": "stream",
     "text": [
      "783.4676543209878\n"
     ]
    }
   ],
   "source": [
    "J_0 = 1.6189 * 0.04 ** 2.0 / 2.0\n",
    "T_0 = 9.0\n",
    "T_1 = 7.0\n",
    "J_1 = J_0 * (T_1 / T_0) ** 2\n",
    "print(J_1 * 10 ** 6)"
   ]
  },
  {
   "cell_type": "markdown",
   "metadata": {},
   "source": [
    "Таким образом, $J_г = 783.5 \\cdot 10^{-6}$ $кг \\cdot \\frac{м^2}{с^2}$."
   ]
  }
 ],
 "metadata": {
  "kernelspec": {
   "display_name": "Python 3",
   "language": "python",
   "name": "python3"
  },
  "language_info": {
   "codemirror_mode": {
    "name": "ipython",
    "version": 3
   },
   "file_extension": ".py",
   "mimetype": "text/x-python",
   "name": "python",
   "nbconvert_exporter": "python",
   "pygments_lexer": "ipython3",
   "version": "3.8.3"
  }
 },
 "nbformat": 4,
 "nbformat_minor": 2
}
